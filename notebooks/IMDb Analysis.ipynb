{
 "cells": [
  {
   "cell_type": "markdown",
   "metadata": {},
   "source": [
    "# My IMDb Ratings"
   ]
  },
  {
   "cell_type": "code",
   "execution_count": null,
   "metadata": {},
   "outputs": [],
   "source": [
    "import os\n",
    "import numpy as np\n",
    "import pandas as pd\n",
    "import altair as alt\n",
    "\n",
    "path = os.path.expanduser('../data/imdb.csv')"
   ]
  },
  {
   "cell_type": "code",
   "execution_count": null,
   "metadata": {},
   "outputs": [],
   "source": [
    "df = pd.read_csv(path, header=None,\n",
    "                 names=['title', 'release_year', 'genre', 'rating', 'user_rating', 'votes', 'range_year'])\n",
    "df['release_year'] = df.release_year.astype('category')"
   ]
  },
  {
   "cell_type": "markdown",
   "metadata": {},
   "source": [
    "## Count by year"
   ]
  },
  {
   "cell_type": "code",
   "execution_count": null,
   "metadata": {},
   "outputs": [],
   "source": [
    "tmp = df.groupby('release_year')['release_year'].count()\n",
    "data = pd.DataFrame({'release_year': tmp.index, 'count': tmp.values})"
   ]
  },
  {
   "cell_type": "code",
   "execution_count": null,
   "metadata": {},
   "outputs": [],
   "source": [
    "chart = alt.Chart(data).mark_bar().encode(\n",
    "  x=alt.X('release_year', title='Release Year'),\n",
    "  y=alt.Y('count', title='Count'))\n",
    "text = chart.mark_text(dy=-10).encode(text='count')\n",
    "\n",
    "chart + text"
   ]
  },
  {
   "cell_type": "markdown",
   "metadata": {},
   "source": [
    "## Rating per year"
   ]
  },
  {
   "cell_type": "code",
   "execution_count": null,
   "metadata": {},
   "outputs": [],
   "source": [
    "data = pd.DataFrame({'release_year': df.release_year, 'rating': df.rating, 'type': 'POP'})\n",
    "data = data.append(pd.DataFrame({'release_year': df.release_year, 'rating': df.user_rating, 'type': 'USR'}))\n",
    "data['type'] = data.type.astype('category')"
   ]
  },
  {
   "cell_type": "code",
   "execution_count": null,
   "metadata": {},
   "outputs": [],
   "source": [
    "chart1 = alt.Chart(data[(data['release_year'].astype('int') >= 1990) & (data['release_year'].astype('int') <= 2000)]).mark_boxplot().encode(\n",
    "  x='type',\n",
    "  y='rating',\n",
    "  column='release_year',\n",
    "  color='type')\n",
    "\n",
    "chart2 = alt.Chart(data[(data['release_year'].astype('int') >= 2001) & (data['release_year'].astype('int') <= 2010)]).mark_boxplot().encode(\n",
    "  x='type',\n",
    "  y='rating',\n",
    "  column='release_year',\n",
    "  color='type')\n",
    "\n",
    "chart3 = alt.Chart(data[data['release_year'].astype('int') > 2010]).mark_boxplot().encode(\n",
    "  x='type',\n",
    "  y='rating',\n",
    "  column='release_year',\n",
    "  color='type')\n",
    "\n",
    "chart1 & chart2 & chart3"
   ]
  },
  {
   "cell_type": "markdown",
   "metadata": {},
   "source": [
    "## Votes\n",
    "\n",
    "### Distribution of votes"
   ]
  },
  {
   "cell_type": "code",
   "execution_count": null,
   "metadata": {},
   "outputs": [],
   "source": [
    "chart = alt.Chart(df).mark_bar().encode(\n",
    "  x=alt.X('votes:Q', bin=alt.Bin(maxbins=50), axis=alt.Axis(title='Total Votes', labelAngle=-90)),\n",
    "  y=alt.Y('count()', title='Bin Count'))\n",
    "\n",
    "text = chart.mark_text(dy=-10).encode(text='count()')\n",
    "\n",
    "(chart + text).properties(width=875)"
   ]
  },
  {
   "cell_type": "markdown",
   "metadata": {},
   "source": [
    "### Distribution of votes by year"
   ]
  },
  {
   "cell_type": "code",
   "execution_count": null,
   "metadata": {},
   "outputs": [],
   "source": [
    "alt.Chart(df[df['release_year'].astype('int') > 1980]).mark_boxplot().encode(\n",
    "  x=alt.X('release_year', title='Release Year'),\n",
    "  y=alt.Y('votes', title='Number of votes'))"
   ]
  },
  {
   "cell_type": "markdown",
   "metadata": {},
   "source": [
    "## Ratings distribution by genre"
   ]
  },
  {
   "cell_type": "code",
   "execution_count": null,
   "metadata": {},
   "outputs": [],
   "source": [
    "data = pd.DataFrame({'release_year': df.release_year, 'rating': df.rating, 'type': 'POP'})\n",
    "data = data.append(pd.DataFrame({'release_year': df.release_year, 'rating': df.user_rating, 'type': 'USR'}))\n",
    "data['type'] = data.type.astype('category')\n",
    "\n",
    "all_genres = set()\n",
    "for gl in df['genre'].apply(lambda x: x.split(',')).tolist():\n",
    "   all_genres.update([g.strip() for g in gl])\n",
    "\n",
    "for g in all_genres:\n",
    "    flag = df['genre'].apply(lambda x: int(g in x))\n",
    "    flag = flag.append(flag)\n",
    "    data[f'g_{g}'] = flag"
   ]
  },
  {
   "cell_type": "code",
   "execution_count": null,
   "metadata": {},
   "outputs": [],
   "source": [
    "charts = [\n",
    "    alt.Chart(data[(data[f'g_{g}'] == 1)]).mark_boxplot().encode(\n",
    "      x='type',\n",
    "      y='rating',\n",
    "      color='type'\n",
    "    ).properties(\n",
    "        title=g\n",
    "    )\n",
    "    for g in all_genres\n",
    "]\n",
    "\n",
    "final_chart = None\n",
    "for i in range(5):\n",
    "    c = charts[i * 5]\n",
    "    for j in range(1, 5):\n",
    "        c |= charts[i * 5 + j]\n",
    "\n",
    "    if final_chart is None:\n",
    "        final_chart = c\n",
    "    else:\n",
    "        final_chart &= c\n",
    "\n",
    "final_chart"
   ]
  }
 ],
 "metadata": {
  "kernelspec": {
   "display_name": "Python 3",
   "language": "python",
   "name": "python3"
  },
  "language_info": {
   "codemirror_mode": {
    "name": "ipython",
    "version": 3
   },
   "file_extension": ".py",
   "mimetype": "text/x-python",
   "name": "python",
   "nbconvert_exporter": "python",
   "pygments_lexer": "ipython3",
   "version": "3.8.3"
  }
 },
 "nbformat": 4,
 "nbformat_minor": 4
}
