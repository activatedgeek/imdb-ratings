{
 "cells": [
  {
   "cell_type": "markdown",
   "metadata": {},
   "source": [
    "# My IMDb"
   ]
  },
  {
   "cell_type": "raw",
   "metadata": {},
   "source": [
    "# ! pip install numpy pandas altair"
   ]
  },
  {
   "cell_type": "code",
   "execution_count": null,
   "metadata": {},
   "outputs": [],
   "source": [
    "from functools import reduce\n",
    "import os\n",
    "import numpy as np\n",
    "import pandas as pd\n",
    "import altair as alt\n",
    "\n",
    "path = '../data/imdb.csv'"
   ]
  },
  {
   "cell_type": "code",
   "execution_count": null,
   "metadata": {},
   "outputs": [],
   "source": [
    "imdb = pd.read_csv(path, header=None,\n",
    "                   names=['title', 'release_year', 'genre', 'rating', 'user_rating', 'votes', 'range_year'])\n",
    "\n",
    "imdb['id'] = pd.Series(range(len(imdb)), name='id')\n",
    "imdb.release_year = imdb.release_year\n",
    "imdb.user_rating = imdb.user_rating.astype('float')\n",
    "\n",
    "# Genres table.\n",
    "genres = reduce(lambda x, y: x + y, [\n",
    "  [dict(id=row.id, genre=g.strip()) for g in row.genre.split(',')]\n",
    "  for _, row in imdb.iterrows()\n",
    "], [])\n",
    "genres = pd.DataFrame(genres)\n",
    "genres.genre = genres.genre.astype('category')\n",
    "\n",
    "ratings = imdb[['id', 'rating']].copy()\n",
    "ratings['src'] = 'IMDb'\n",
    "user_ratings = imdb[['id', 'user_rating']].rename(columns=dict(user_rating='rating'))\n",
    "user_ratings['src'] = 'User'\n",
    "ratings = ratings.append(user_ratings)\n",
    "ratings.src = ratings.src.astype('category')\n",
    "\n",
    "imdb = imdb.drop(columns=['genre', 'rating', 'user_rating'])"
   ]
  },
  {
   "cell_type": "markdown",
   "metadata": {},
   "source": [
    "## Counts"
   ]
  },
  {
   "cell_type": "code",
   "execution_count": null,
   "metadata": {},
   "outputs": [],
   "source": [
    "imdb_join_genre = imdb[['id', 'release_year']].merge(genres, on='id', how='inner')"
   ]
  },
  {
   "cell_type": "markdown",
   "metadata": {},
   "source": [
    "### By \"Release Year\""
   ]
  },
  {
   "cell_type": "code",
   "execution_count": null,
   "metadata": {},
   "outputs": [],
   "source": [
    "hist = alt.Chart(imdb).mark_bar().encode(\n",
    "  x=alt.X('release_year:N', title='Release Year'),\n",
    "  y=alt.Y('count(id)', title='Count')\n",
    ")\n",
    "text = hist.mark_text(dy=-10).encode(text='count(id)')\n",
    "\n",
    "(hist + text)"
   ]
  },
  {
   "cell_type": "markdown",
   "metadata": {},
   "source": [
    "### By \"Genre\" every \"Release Year\""
   ]
  },
  {
   "cell_type": "code",
   "execution_count": null,
   "metadata": {},
   "outputs": [],
   "source": [
    "base = alt.Chart(imdb_join_genre).transform_aggregate(N='count()', groupby=['release_year', 'genre']).encode(\n",
    "    x=alt.X('release_year:N', title='Release Year'),\n",
    "    y=alt.Y('genre', title='Genre')\n",
    ")\n",
    "heatmap = base.mark_rect().encode(color='N:Q')\n",
    "text = base.mark_text(baseline='middle', color='gray').encode(text='N:Q')\n",
    "\n",
    "(heatmap + text)"
   ]
  },
  {
   "cell_type": "markdown",
   "metadata": {},
   "source": [
    "## Votes"
   ]
  },
  {
   "cell_type": "markdown",
   "metadata": {},
   "source": [
    "### Histogram of \"Votes\""
   ]
  },
  {
   "cell_type": "code",
   "execution_count": null,
   "metadata": {},
   "outputs": [],
   "source": [
    "chart = alt.Chart(imdb).mark_bar().encode(\n",
    "  x=alt.X('votes', bin=alt.Bin(maxbins=50), axis=alt.Axis(title='Total Votes', labelAngle=-90)),\n",
    "  y=alt.Y('count()', title='Bin Count'))\n",
    "\n",
    "text = chart.mark_text(dy=-10).encode(text='count()')\n",
    "\n",
    "(chart + text).properties(width=875)"
   ]
  },
  {
   "cell_type": "markdown",
   "metadata": {},
   "source": [
    "### \"Votes\" by \"Year\""
   ]
  },
  {
   "cell_type": "code",
   "execution_count": null,
   "metadata": {},
   "outputs": [],
   "source": [
    "alt.Chart(imdb[imdb['release_year'] > 1980]).mark_boxplot().encode(\n",
    "  x=alt.X('release_year:N', title='Release Year'),\n",
    "  y=alt.Y('votes', title='Number of votes'))"
   ]
  },
  {
   "cell_type": "markdown",
   "metadata": {},
   "source": [
    "## Ratings"
   ]
  },
  {
   "cell_type": "code",
   "execution_count": null,
   "metadata": {},
   "outputs": [],
   "source": [
    "all_year_ratings = imdb[['id', 'release_year']].merge(ratings, on='id', how='inner')"
   ]
  },
  {
   "cell_type": "markdown",
   "metadata": {},
   "source": [
    "### Distribution over all \"Year\"s"
   ]
  },
  {
   "cell_type": "code",
   "execution_count": null,
   "metadata": {},
   "outputs": [],
   "source": [
    "alt.Chart(all_year_ratings[all_year_ratings['release_year'] > 1980]).mark_boxplot().encode(\n",
    "  y=alt.Y('src', title='Source'),\n",
    "  x=alt.X('rating', title='Ratings'),\n",
    "  color=alt.Color('src', title='Source'))"
   ]
  },
  {
   "cell_type": "markdown",
   "metadata": {},
   "source": [
    "### Distribution for every \"Release Year\""
   ]
  },
  {
   "cell_type": "code",
   "execution_count": null,
   "metadata": {},
   "outputs": [],
   "source": [
    "alt.Chart(all_year_ratings[all_year_ratings['release_year'] > 1980]).mark_boxplot().encode(\n",
    "  y=alt.Y('src', title='Source'),\n",
    "  x=alt.X('rating', title='Ratings'),\n",
    "  row=alt.Row('release_year', title='Release Year'),\n",
    "  color=alt.Color('src', title='Source'))"
   ]
  },
  {
   "cell_type": "markdown",
   "metadata": {},
   "source": [
    "### Distribution by \"Genre\""
   ]
  },
  {
   "cell_type": "code",
   "execution_count": null,
   "metadata": {},
   "outputs": [],
   "source": [
    "all_genre_ratings = imdb[['id']].merge(genres, on='id', how='inner').merge(ratings, on='id', how='inner')"
   ]
  },
  {
   "cell_type": "code",
   "execution_count": null,
   "metadata": {},
   "outputs": [],
   "source": [
    "alt.Chart(all_genre_ratings).mark_boxplot().encode(\n",
    "  y=alt.Y('src', title='Source'),\n",
    "  x=alt.X('rating', title='Ratings'),\n",
    "  row=alt.Row('genre', title='Genre'),\n",
    "  color=alt.Color('src', title='Source')).save('chart.json')"
   ]
  }
 ],
 "metadata": {
  "kernelspec": {
   "display_name": "Python 3",
   "language": "python",
   "name": "python3"
  },
  "language_info": {
   "codemirror_mode": {
    "name": "ipython",
    "version": 3
   },
   "file_extension": ".py",
   "mimetype": "text/x-python",
   "name": "python",
   "nbconvert_exporter": "python",
   "pygments_lexer": "ipython3",
   "version": "3.8.3"
  }
 },
 "nbformat": 4,
 "nbformat_minor": 4
}
